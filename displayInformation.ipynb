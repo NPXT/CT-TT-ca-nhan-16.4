{
 "cells": [
  {
   "cell_type": "code",
   "execution_count": 1,
   "id": "5d8bd7b1",
   "metadata": {},
   "outputs": [
    {
     "name": "stdout",
     "output_type": "stream",
     "text": [
      "Thông tin cá nhân: Nguyễn Phạm Xuân Thùy- 27/8/1993- Nữ\n"
     ]
    }
   ],
   "source": [
    "print(\"Thông tin cá nhân: Nguyễn Phạm Xuân Thùy- 27/8/1993- Nữ\")"
   ]
  },
  {
   "cell_type": "code",
   "execution_count": null,
   "id": "a2d715dc",
   "metadata": {},
   "outputs": [],
   "source": []
  }
 ],
 "metadata": {
  "kernelspec": {
   "display_name": "Python 3 (ipykernel)",
   "language": "python",
   "name": "python3"
  },
  "language_info": {
   "codemirror_mode": {
    "name": "ipython",
    "version": 3
   },
   "file_extension": ".py",
   "mimetype": "text/x-python",
   "name": "python",
   "nbconvert_exporter": "python",
   "pygments_lexer": "ipython3",
   "version": "3.9.12"
  }
 },
 "nbformat": 4,
 "nbformat_minor": 5
}
